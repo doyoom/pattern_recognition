{
  "nbformat": 4,
  "nbformat_minor": 0,
  "metadata": {
    "colab": {
      "provenance": []
    },
    "kernelspec": {
      "name": "python3",
      "display_name": "Python 3"
    },
    "language_info": {
      "name": "python"
    }
  },
  "cells": [
    {
      "cell_type": "code",
      "execution_count": 1,
      "metadata": {
        "colab": {
          "base_uri": "https://localhost:8080/"
        },
        "id": "uK_ddP3OBJeI",
        "outputId": "2ec28f74-bb00-410e-ceae-24e928a74fea"
      },
      "outputs": [
        {
          "output_type": "stream",
          "name": "stdout",
          "text": [
            "Fitting 5 folds for each of 50 candidates, totalling 250 fits\n",
            "Best Parameters: {'n_estimators': np.int64(500), 'min_samples_split': 5, 'min_samples_leaf': 4, 'max_features': 'log2', 'max_depth': None}\n",
            "Best Mean Score: 0.6737480231057686\n"
          ]
        }
      ],
      "source": [
        "import pandas as pd\n",
        "import numpy as np\n",
        "from sklearn.model_selection import train_test_split, StratifiedKFold, RandomizedSearchCV\n",
        "from sklearn.ensemble import RandomForestClassifier\n",
        "from sklearn.metrics import make_scorer, accuracy_score, f1_score, roc_auc_score\n",
        "from sklearn.preprocessing import LabelEncoder\n",
        "\n",
        "# 1. 데이터 로드\n",
        "df = pd.read_csv('train_real_final.csv')\n",
        "\n",
        "# 2. 특성과 타겟 분리\n",
        "X = df.drop(columns=['y'])\n",
        "y = df['y']\n",
        "\n",
        "# 3. 8:2 분할 (train vs test)\n",
        "X_train, X_val, y_train, y_val = train_test_split(X, y, test_size=0.2, random_state=42)\n",
        "\n",
        "\n",
        "# 4. 커스텀 스코어 함수 정의\n",
        "def mean_score_scorer(estimator, X, y):\n",
        "    y_pred = estimator.predict(X)\n",
        "    if hasattr(estimator, \"predict_proba\"):\n",
        "        y_proba = estimator.predict_proba(X)\n",
        "        if y_proba.shape[1] == 2:\n",
        "            auc = roc_auc_score(y, y_proba[:, 1])\n",
        "        else:\n",
        "            auc = roc_auc_score(y, y_proba, multi_class='ovr')\n",
        "    else:\n",
        "        auc = 0  # 예외 처리 (예: 확률 없음)\n",
        "    acc = accuracy_score(y, y_pred)\n",
        "    f1 = f1_score(y, y_pred, average='weighted')\n",
        "    return np.mean([acc, f1, auc])\n",
        "\n",
        "\n",
        "# 5. 1차 Random Search\n",
        "param_dist = {\n",
        "    'n_estimators': np.arange(100, 501, 100),  # 100, 200, 300, 400, 500\n",
        "    'max_depth': [10, 20, 30, None],           # 적당한 깊이 + 제한 없는 경우\n",
        "    'min_samples_split': [2, 5, 10],           # 기본값 + 과적합 방지\n",
        "    'min_samples_leaf': [1, 2, 4],             # 리프 노드 최소 샘플 수\n",
        "    'max_features': ['sqrt', 'log2']           # 고차원 원핫에 맞게 자동 설정\n",
        "}\n",
        "\n",
        "\n",
        "# 6. 랜덤포레스트 모델 정의\n",
        "rf = RandomForestClassifier(random_state=42, n_jobs=-1)\n",
        "\n",
        "# 7. 1차 랜덤서치 정의\n",
        "random_search = RandomizedSearchCV(\n",
        "    estimator=rf,\n",
        "    param_distributions=param_dist,\n",
        "    n_iter=50,\n",
        "    scoring=mean_score_scorer,\n",
        "    cv=StratifiedKFold(n_splits=5, shuffle=True, random_state=42),\n",
        "    verbose=2,\n",
        "    random_state=42,\n",
        "    n_jobs=-1,\n",
        "    error_score='raise'\n",
        ")\n",
        "\n",
        "random_search.fit(X_train, y_train)\n",
        "\n",
        "# 8. 결과 출력\n",
        "print(\"Best Parameters:\", random_search.best_params_)\n",
        "print(\"Best Mean Score:\", random_search.best_score_)\n"
      ]
    },
    {
      "cell_type": "code",
      "source": [
        "from sklearn.model_selection import GridSearchCV\n",
        "\n",
        "# 1. 이전 랜덤서치 결과 기반의 그리드 탐색 범위 설정\n",
        "param_grid = {\n",
        "    'n_estimators': [400, 500, 600],               # 500 중심으로 조금 위아래\n",
        "    'max_depth': [None, 30, 50],                   # None 근처의 깊이 추가\n",
        "    'min_samples_split': [3, 5, 7],                # 5 주변의 값\n",
        "    'min_samples_leaf': [3, 4, 5],                 # 4 주변의 값\n",
        "    'max_features': ['log2']                       # 랜덤서치 결과 이 옵션이 우수\n",
        "}\n",
        "\n",
        "\n",
        "# 2. 모델 정의 (같은 설정 유지)\n",
        "rf = RandomForestClassifier(random_state=42, n_jobs=-1)\n",
        "\n",
        "# 3. 그리드서치 객체 생성\n",
        "grid_search = GridSearchCV(\n",
        "    estimator=rf,\n",
        "    param_grid=param_grid,\n",
        "    scoring=mean_score_scorer,  # 이전에 정의한 mean_score_scorer 기반\n",
        "    cv=StratifiedKFold(n_splits=5, shuffle=True, random_state=42),\n",
        "    verbose=2,\n",
        "    n_jobs=-1,\n",
        "    error_score='raise'\n",
        ")\n",
        "\n",
        "# 4. 트레인셋 기반 튜닝\n",
        "grid_search.fit(X_train, y_train)\n",
        "\n",
        "# 5. 결과 출력\n",
        "print(\"Best Parameters (GridSearch):\", grid_search.best_params_)\n",
        "print(\"Best Mean Score (GridSearch):\", grid_search.best_score_)\n"
      ],
      "metadata": {
        "colab": {
          "base_uri": "https://localhost:8080/"
        },
        "id": "zVE3maDIRXwp",
        "outputId": "9c78cd2e-2e46-488f-f26c-b97bf5779d5a"
      },
      "execution_count": 2,
      "outputs": [
        {
          "output_type": "stream",
          "name": "stdout",
          "text": [
            "Fitting 5 folds for each of 81 candidates, totalling 405 fits\n"
          ]
        },
        {
          "output_type": "stream",
          "name": "stderr",
          "text": [
            "/usr/local/lib/python3.11/dist-packages/joblib/externals/loky/process_executor.py:782: UserWarning: A worker stopped while some jobs were given to the executor. This can be caused by a too short worker timeout or by a memory leak.\n",
            "  warnings.warn(\n"
          ]
        },
        {
          "output_type": "stream",
          "name": "stdout",
          "text": [
            "Best Parameters (GridSearch): {'max_depth': 30, 'max_features': 'log2', 'min_samples_leaf': 3, 'min_samples_split': 7, 'n_estimators': 600}\n",
            "Best Mean Score (GridSearch): 0.6737651164117422\n"
          ]
        }
      ]
    },
    {
      "cell_type": "code",
      "source": [
        "# 1. 최적 파라미터로 모델 생성 및 훈련\n",
        "best_rf = grid_search.best_estimator_\n",
        "best_rf.fit(X_train, y_train)\n",
        "\n",
        "# 2. 검증셋으로 예측\n",
        "y_val_pred = best_rf.predict(X_val)\n",
        "y_val_proba = best_rf.predict_proba(X_val)\n",
        "\n",
        "# 3. 성능 평가\n",
        "acc = accuracy_score(y_val, y_val_pred)\n",
        "f1 = f1_score(y_val, y_val_pred, average='binary')\n",
        "roc_auc = roc_auc_score(y_val, y_val_proba[:, 1])  # 클래스 1 확률 사용\n",
        "\n",
        "# 4. 평균 점수 계산\n",
        "mean_score = np.mean([acc, f1, roc_auc])\n",
        "\n",
        "# 5. 결과 출력\n",
        "print(\"Accuracy:\", acc)\n",
        "print(\"F1 Score:\", f1)\n",
        "print(\"ROC AUC Score:\", roc_auc)\n",
        "print(\"Mean Score:\", mean_score)"
      ],
      "metadata": {
        "colab": {
          "base_uri": "https://localhost:8080/"
        },
        "id": "QI_kcjHJfLwD",
        "outputId": "8eef24f4-ac2f-46d4-90f8-7687852f97d4"
      },
      "execution_count": 3,
      "outputs": [
        {
          "output_type": "stream",
          "name": "stdout",
          "text": [
            "Accuracy: 0.6669710111846611\n",
            "F1 Score: 0.6699841664781724\n",
            "ROC AUC Score: 0.7215343764264024\n",
            "Mean Score: 0.6861631846964119\n"
          ]
        }
      ]
    },
    {
      "cell_type": "code",
      "source": [],
      "metadata": {
        "id": "mipKdtqKUK0d"
      },
      "execution_count": null,
      "outputs": []
    }
  ]
}