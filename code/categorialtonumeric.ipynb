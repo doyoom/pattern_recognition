{
  "nbformat": 4,
  "nbformat_minor": 0,
  "metadata": {
    "colab": {
      "provenance": []
    },
    "kernelspec": {
      "name": "python3",
      "display_name": "Python 3"
    },
    "language_info": {
      "name": "python"
    }
  },
  "cells": [
    {
      "cell_type": "code",
      "execution_count": null,
      "metadata": {
        "colab": {
          "base_uri": "https://localhost:8080/"
        },
        "id": "bp97_8FyOn3t",
        "outputId": "6922ac33-1a68-4a8f-8ef3-2553309625b9"
      },
      "outputs": [
        {
          "output_type": "stream",
          "name": "stdout",
          "text": [
            "Drive already mounted at /content/drive; to attempt to forcibly remount, call drive.mount(\"/content/drive\", force_remount=True).\n"
          ]
        }
      ],
      "source": [
        "from google.colab import drive\n",
        "drive.mount('/content/drive')"
      ]
    },
    {
      "cell_type": "code",
      "source": [
        "import pandas as pd\n",
        "from sklearn.preprocessing import OneHotEncoder\n",
        "from google.colab import files\n",
        "\n",
        "train = pd.read_csv(\"/content/drive/MyDrive/패턴인식/train_clean_reg.csv\")\n",
        "test = pd.read_csv(\"/content/drive/MyDrive/패턴인식/test_clean_reg.csv\")\n",
        "\n",
        "train.shape"
      ],
      "metadata": {
        "id": "spPeafaKO2Vi",
        "colab": {
          "base_uri": "https://localhost:8080/"
        },
        "outputId": "b1beb19b-87de-45b5-a406-9feeccbd9db8"
      },
      "execution_count": null,
      "outputs": [
        {
          "output_type": "execute_result",
          "data": {
            "text/plain": [
              "(22200, 49)"
            ]
          },
          "metadata": {},
          "execution_count": 15
        }
      ]
    },
    {
      "cell_type": "code",
      "source": [
        "import pandas as pd\n",
        "from sklearn.preprocessing import OneHotEncoder\n",
        "\n",
        "# 2) 범주형 변수 리스트 (예시)\n",
        "categorical_cols = [\"data_channel\", \"weekday\"]\n",
        "\n",
        "# 3) One-Hot Encoder 설정\n",
        "ohe = OneHotEncoder(handle_unknown=\"ignore\", sparse_output=False)\n",
        "\n",
        "# 4) train에서 학습(fit) & train/test 변환(transform)\n",
        "#    결과는 numpy array → 다시 DataFrame으로 변환\n",
        "train_ohe = pd.DataFrame(\n",
        "    ohe.fit_transform(train[categorical_cols]),\n",
        "    columns=ohe.get_feature_names_out(categorical_cols),\n",
        "    index=train.index\n",
        ")\n",
        "test_ohe = pd.DataFrame(\n",
        "    ohe.transform(test[categorical_cols]),\n",
        "    columns=ohe.get_feature_names_out(categorical_cols),\n",
        "    index=test.index\n",
        ")\n",
        "\n",
        "# 5) 원본에서 범주형 컬럼 제거하고, 인코딩된 컬럼 붙이기\n",
        "train = pd.concat([train.drop(columns=categorical_cols), train_ohe], axis=1)\n",
        "test  = pd.concat([test .drop(columns=categorical_cols), test_ohe ], axis=1)\n",
        "\n",
        "# 6) 결과 저장\n",
        "train.to_csv(\"train_encoded.csv\", index=False)\n",
        "test.to_csv(\"test_encoded.csv\",  index=False)\n",
        "files.download(\"test_encoded.csv\")\n",
        "files.download(\"train_encoded.csv\")"
      ],
      "metadata": {
        "id": "Vsp62eYbP61V",
        "colab": {
          "base_uri": "https://localhost:8080/",
          "height": 17
        },
        "outputId": "ed2f58e0-393f-4b78-8e72-5253bcdf5c2a"
      },
      "execution_count": null,
      "outputs": [
        {
          "output_type": "display_data",
          "data": {
            "text/plain": [
              "<IPython.core.display.Javascript object>"
            ],
            "application/javascript": [
              "\n",
              "    async function download(id, filename, size) {\n",
              "      if (!google.colab.kernel.accessAllowed) {\n",
              "        return;\n",
              "      }\n",
              "      const div = document.createElement('div');\n",
              "      const label = document.createElement('label');\n",
              "      label.textContent = `Downloading \"${filename}\": `;\n",
              "      div.appendChild(label);\n",
              "      const progress = document.createElement('progress');\n",
              "      progress.max = size;\n",
              "      div.appendChild(progress);\n",
              "      document.body.appendChild(div);\n",
              "\n",
              "      const buffers = [];\n",
              "      let downloaded = 0;\n",
              "\n",
              "      const channel = await google.colab.kernel.comms.open(id);\n",
              "      // Send a message to notify the kernel that we're ready.\n",
              "      channel.send({})\n",
              "\n",
              "      for await (const message of channel.messages) {\n",
              "        // Send a message to notify the kernel that we're ready.\n",
              "        channel.send({})\n",
              "        if (message.buffers) {\n",
              "          for (const buffer of message.buffers) {\n",
              "            buffers.push(buffer);\n",
              "            downloaded += buffer.byteLength;\n",
              "            progress.value = downloaded;\n",
              "          }\n",
              "        }\n",
              "      }\n",
              "      const blob = new Blob(buffers, {type: 'application/binary'});\n",
              "      const a = document.createElement('a');\n",
              "      a.href = window.URL.createObjectURL(blob);\n",
              "      a.download = filename;\n",
              "      div.appendChild(a);\n",
              "      a.click();\n",
              "      div.remove();\n",
              "    }\n",
              "  "
            ]
          },
          "metadata": {}
        },
        {
          "output_type": "display_data",
          "data": {
            "text/plain": [
              "<IPython.core.display.Javascript object>"
            ],
            "application/javascript": [
              "download(\"download_52098b19-2e56-4fc5-86d4-31eb29113951\", \"test_encoded.csv\", 4790134)"
            ]
          },
          "metadata": {}
        },
        {
          "output_type": "display_data",
          "data": {
            "text/plain": [
              "<IPython.core.display.Javascript object>"
            ],
            "application/javascript": [
              "\n",
              "    async function download(id, filename, size) {\n",
              "      if (!google.colab.kernel.accessAllowed) {\n",
              "        return;\n",
              "      }\n",
              "      const div = document.createElement('div');\n",
              "      const label = document.createElement('label');\n",
              "      label.textContent = `Downloading \"${filename}\": `;\n",
              "      div.appendChild(label);\n",
              "      const progress = document.createElement('progress');\n",
              "      progress.max = size;\n",
              "      div.appendChild(progress);\n",
              "      document.body.appendChild(div);\n",
              "\n",
              "      const buffers = [];\n",
              "      let downloaded = 0;\n",
              "\n",
              "      const channel = await google.colab.kernel.comms.open(id);\n",
              "      // Send a message to notify the kernel that we're ready.\n",
              "      channel.send({})\n",
              "\n",
              "      for await (const message of channel.messages) {\n",
              "        // Send a message to notify the kernel that we're ready.\n",
              "        channel.send({})\n",
              "        if (message.buffers) {\n",
              "          for (const buffer of message.buffers) {\n",
              "            buffers.push(buffer);\n",
              "            downloaded += buffer.byteLength;\n",
              "            progress.value = downloaded;\n",
              "          }\n",
              "        }\n",
              "      }\n",
              "      const blob = new Blob(buffers, {type: 'application/binary'});\n",
              "      const a = document.createElement('a');\n",
              "      a.href = window.URL.createObjectURL(blob);\n",
              "      a.download = filename;\n",
              "      div.appendChild(a);\n",
              "      a.click();\n",
              "      div.remove();\n",
              "    }\n",
              "  "
            ]
          },
          "metadata": {}
        },
        {
          "output_type": "display_data",
          "data": {
            "text/plain": [
              "<IPython.core.display.Javascript object>"
            ],
            "application/javascript": [
              "download(\"download_0028bfa9-f84b-4ad6-9f39-60ec247f8fce\", \"train_encoded.csv\", 11319522)"
            ]
          },
          "metadata": {}
        }
      ]
    }
  ]
}